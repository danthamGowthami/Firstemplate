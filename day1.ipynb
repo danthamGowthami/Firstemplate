{
  "nbformat": 4,
  "nbformat_minor": 0,
  "metadata": {
    "colab": {
      "name": "Untitled3.ipynb",
      "provenance": [],
      "authorship_tag": "ABX9TyPBKaaxaULP2l4VNdFqDD9y",
      "include_colab_link": true
    },
    "kernelspec": {
      "name": "python3",
      "display_name": "Python 3"
    },
    "language_info": {
      "name": "python"
    }
  },
  "cells": [
    {
      "cell_type": "markdown",
      "metadata": {
        "id": "view-in-github",
        "colab_type": "text"
      },
      "source": [
        "<a href=\"https://colab.research.google.com/github/danthamGowthami/Firstemplate/blob/main/day1.ipynb\" target=\"_parent\"><img src=\"https://colab.research.google.com/assets/colab-badge.svg\" alt=\"Open In Colab\"/></a>"
      ]
    },
    {
      "cell_type": "code",
      "metadata": {
        "id": "5Jo5dhg_EOkZ"
      },
      "source": [
        "# It is very simple:\n",
        "# Easily readable\n",
        "# no strict syntax\n",
        "# dynamically typed lang\n"
      ],
      "execution_count": 25,
      "outputs": []
    },
    {
      "cell_type": "code",
      "metadata": {
        "id": "Ht8LBzdNFRUH"
      },
      "source": [
        "\n"
      ],
      "execution_count": 25,
      "outputs": []
    },
    {
      "cell_type": "code",
      "metadata": {
        "colab": {
          "base_uri": "https://localhost:8080/"
        },
        "id": "5kACUfjBGesH",
        "outputId": "9e119b02-e7c4-4bb9-a6e1-acf28eabdc11"
      },
      "source": [
        "#dynamically typed\n",
        "a='hello'\n",
        "print(type(a))\n",
        "a=20\n",
        "print(type(a))\n",
        "a='$'\n",
        "print(type(a))\n",
        "a=40.5\n",
        "print(type(a))"
      ],
      "execution_count": 24,
      "outputs": [
        {
          "output_type": "stream",
          "text": [
            "<class 'str'>\n",
            "<class 'int'>\n",
            "<class 'str'>\n",
            "<class 'float'>\n"
          ],
          "name": "stdout"
        }
      ]
    },
    {
      "cell_type": "code",
      "metadata": {
        "colab": {
          "base_uri": "https://localhost:8080/"
        },
        "id": "MobYu9XiJkot",
        "outputId": "a045492d-aaad-4abc-84b7-3a87f00397d7"
      },
      "source": [
        "#{x=12 y=20 z=30}===={x,y,z=10,20,30}\n",
        "a=b=c=20\n",
        "print(a,b,c)\n",
        "\n",
        "print(id(a),id(b),id(c))  # memory is allocated for value not for variable where as in c it creates memory for variable\n",
        "\n",
        "# python contains no pointers instead of pointers we use id\n"
      ],
      "execution_count": 28,
      "outputs": [
        {
          "output_type": "stream",
          "text": [
            "20 20 20\n",
            "93949213002848 93949213002848 93949213002848\n"
          ],
          "name": "stdout"
        }
      ]
    },
    {
      "cell_type": "code",
      "metadata": {
        "colab": {
          "base_uri": "https://localhost:8080/"
        },
        "id": "AK_PIALaMMWy",
        "outputId": "145982b1-ff53-4009-cb75-9656ede8dab5"
      },
      "source": [
        "a=b=c=20\n",
        "print(a,b,c)\n",
        "b=30\n",
        "print(a,b,c) # \"immutability:that cannot be changed\" property of integers\n",
        "\n",
        "print(id(a),id(b),id(c))\n",
        "print(type(id(a)))"
      ],
      "execution_count": 32,
      "outputs": [
        {
          "output_type": "stream",
          "text": [
            "20 20 20\n",
            "20 30 20\n",
            "93949213002848 93949213003168 93949213002848\n",
            "<class 'int'>\n"
          ],
          "name": "stdout"
        }
      ]
    },
    {
      "cell_type": "code",
      "metadata": {
        "colab": {
          "base_uri": "https://localhost:8080/"
        },
        "id": "ECGGlCtoGlKU",
        "outputId": "e36f8288-992d-4639-df2b-4395a1ce53b4"
      },
      "source": [
        "#how print() works\n",
        "\n",
        "print(\"hello chikku\")\n",
        "\n",
        "print(\"\"\"hello chikku\"\"\")\n",
        "\n",
        "print('''hello chikku''')\n",
        "\n",
        "print('hello chikku')\n",
        "\n",
        "print('hello')\n",
        "print('coders')\n",
        "print('hello',end='@ ')\n",
        "print('coders')\n",
        "print('coders','welcome')"
      ],
      "execution_count": 22,
      "outputs": [
        {
          "output_type": "stream",
          "text": [
            "hello chikku\n",
            "hello chikku\n",
            "hello chikku\n",
            "hello chikku\n",
            "hello\n",
            "coders\n",
            "hello@ coders\n",
            "coders welcome\n"
          ],
          "name": "stdout"
        }
      ]
    },
    {
      "cell_type": "code",
      "metadata": {
        "colab": {
          "base_uri": "https://localhost:8080/"
        },
        "id": "QSySQCPkHOKk",
        "outputId": "7a1f931a-16c5-4c9a-820a-811edc192ab7"
      },
      "source": [
        "# how input() works\n",
        "x=input(\"enter a value: \")\n",
        "y=input(\"enter another value: \")# any input is accepted as string so x+y return a concatenated output\n",
        "print(type(x))\n",
        "#to avoid this we need to convert it in int\n",
        "x=int(input(\"enter a value: \"))\n",
        "\n",
        "y=int(input(\"enter another value: \"))\n",
        "print(x+y)"
      ],
      "execution_count": 37,
      "outputs": [
        {
          "output_type": "stream",
          "text": [
            "enter a value: 4\n",
            "enter another value: 3\n",
            "<class 'str'>\n",
            "enter a value: 4\n",
            "enter another value: 4\n",
            "8\n"
          ],
          "name": "stdout"
        }
      ]
    },
    {
      "cell_type": "code",
      "metadata": {
        "colab": {
          "base_uri": "https://localhost:8080/"
        },
        "id": "5zQrMKphNrEF",
        "outputId": "4055409b-b713-43f8-9f75-06873fbe3330"
      },
      "source": [
        "#how split() works:\n",
        "\n",
        "x=input(\"enter values: \")\n",
        "print(type(x))\n",
        "val=x.split()\n",
        "print(val)# returns a list\n",
        "val=[int(i) for i in x.split()]\n",
        "print(val)\n",
        "x='h e l l o'\n",
        "y=x.split()\n",
        "print(y)"
      ],
      "execution_count": 51,
      "outputs": [
        {
          "output_type": "stream",
          "text": [
            "enter values: 7 5 6 \n",
            "<class 'str'>\n",
            "['7', '5', '6']\n",
            "[7, 5, 6]\n",
            "['h', 'e', 'l', 'l', 'o']\n"
          ],
          "name": "stdout"
        }
      ]
    },
    {
      "cell_type": "code",
      "metadata": {
        "colab": {
          "base_uri": "https://localhost:8080/",
          "height": 128
        },
        "id": "AB-5_UDrPvZ5",
        "outputId": "5c8a3a66-f1f9-4106-e032-8d85bc4e674c"
      },
      "source": [
        "# properties of list\n",
        "     # collection any data typed values (heterogenous)\n",
        " li = ['hello',30,28,'$']\n",
        " print(li)\n",
        " print(type(li))"
      ],
      "execution_count": 43,
      "outputs": [
        {
          "output_type": "error",
          "ename": "IndentationError",
          "evalue": "ignored",
          "traceback": [
            "\u001b[0;36m  File \u001b[0;32m\"<ipython-input-43-2c919432edd7>\"\u001b[0;36m, line \u001b[0;32m3\u001b[0m\n\u001b[0;31m    li = ['hello',30,28,'$']\u001b[0m\n\u001b[0m    ^\u001b[0m\n\u001b[0;31mIndentationError\u001b[0m\u001b[0;31m:\u001b[0m unexpected indent\n"
          ]
        }
      ]
    },
    {
      "cell_type": "code",
      "metadata": {
        "colab": {
          "base_uri": "https://localhost:8080/"
        },
        "id": "hS8d3bOvQz64",
        "outputId": "890ff285-74c1-40bd-997e-876387a780a9"
      },
      "source": [
        "# sort() and reverse()\n",
        "li=[12,20,3,58,49]\n",
        "li.sort()\n",
        "print(li)\n",
        "li.reverse()\n",
        "print(li)"
      ],
      "execution_count": 46,
      "outputs": [
        {
          "output_type": "stream",
          "text": [
            "[3, 12, 20, 49, 58]\n",
            "[58, 49, 20, 12, 3]\n"
          ],
          "name": "stdout"
        }
      ]
    },
    {
      "cell_type": "code",
      "metadata": {
        "colab": {
          "base_uri": "https://localhost:8080/"
        },
        "id": "O-OLLQVKRovN",
        "outputId": "cf7a97d5-8b68-4307-d3fb-b922cbbc53d8"
      },
      "source": [
        "# slicing:\n",
        "li=[12,20,3,58,49]\n",
        "print(li[0:4]) #[startindex:endindex]\n"
      ],
      "execution_count": 47,
      "outputs": [
        {
          "output_type": "stream",
          "text": [
            "[12, 20, 3, 58]\n"
          ],
          "name": "stdout"
        }
      ]
    },
    {
      "cell_type": "code",
      "metadata": {
        "colab": {
          "base_uri": "https://localhost:8080/"
        },
        "id": "1ePqWxFLSalJ",
        "outputId": "4d5c0111-28cb-4318-e035-ac20d9e5b8a3"
      },
      "source": [
        " li = ['hello',30,28,'$']\n",
        " print(li)\n",
        " print(type(li))"
      ],
      "execution_count": 48,
      "outputs": [
        {
          "output_type": "stream",
          "text": [
            "['hello', 30, 28, '$']\n",
            "<class 'list'>\n"
          ],
          "name": "stdout"
        }
      ]
    },
    {
      "cell_type": "code",
      "metadata": {
        "colab": {
          "base_uri": "https://localhost:8080/"
        },
        "id": "zyMi3LgSSu3C",
        "outputId": "eaf49ae3-585d-444f-9b9f-5eeae94db9b3"
      },
      "source": [
        "li=[int(i)for i in input('enter values: ').split()]"
      ],
      "execution_count": 49,
      "outputs": [
        {
          "output_type": "stream",
          "text": [
            "enter values: 18 20 27 29\n"
          ],
          "name": "stdout"
        }
      ]
    },
    {
      "cell_type": "code",
      "metadata": {
        "id": "TdmMPi9VTG8y"
      },
      "source": [
        ""
      ],
      "execution_count": null,
      "outputs": []
    }
  ]
}